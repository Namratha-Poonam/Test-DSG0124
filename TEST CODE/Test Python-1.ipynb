{
 "cells": [
  {
   "cell_type": "code",
   "execution_count": 1,
   "id": "909fb7f4",
   "metadata": {},
   "outputs": [
    {
     "name": "stdout",
     "output_type": "stream",
     "text": [
      "Hello Start Fresh\n"
     ]
    }
   ],
   "source": [
    "print(\"Hello Start Fresh\")"
   ]
  },
  {
   "cell_type": "code",
   "execution_count": 2,
   "id": "757bf9f5",
   "metadata": {},
   "outputs": [
    {
     "name": "stdout",
     "output_type": "stream",
     "text": [
      "lets do it\n"
     ]
    }
   ],
   "source": [
    "print(\"lets do it\")"
   ]
  },
  {
   "cell_type": "code",
   "execution_count": 3,
   "id": "b93fdeb2",
   "metadata": {},
   "outputs": [
    {
     "name": "stdout",
     "output_type": "stream",
     "text": [
      "Namratha AN\n"
     ]
    }
   ],
   "source": [
    "print(\"Namratha AN\")"
   ]
  },
  {
   "cell_type": "code",
   "execution_count": 4,
   "id": "6805fdfb",
   "metadata": {},
   "outputs": [
    {
     "ename": "SyntaxError",
     "evalue": "Missing parentheses in call to 'print'. Did you mean print(...)? (874439636.py, line 1)",
     "output_type": "error",
     "traceback": [
      "\u001b[1;36m  Cell \u001b[1;32mIn[4], line 1\u001b[1;36m\u001b[0m\n\u001b[1;33m    print sum(\"10+20\")\u001b[0m\n\u001b[1;37m    ^\u001b[0m\n\u001b[1;31mSyntaxError\u001b[0m\u001b[1;31m:\u001b[0m Missing parentheses in call to 'print'. Did you mean print(...)?\n"
     ]
    }
   ],
   "source": [
    "print sum(\"10+20\")"
   ]
  },
  {
   "cell_type": "code",
   "execution_count": 5,
   "id": "a363c6b1",
   "metadata": {},
   "outputs": [
    {
     "data": {
      "text/plain": [
       "10000"
      ]
     },
     "execution_count": 5,
     "metadata": {},
     "output_type": "execute_result"
    }
   ],
   "source": [
    "100*100"
   ]
  },
  {
   "cell_type": "code",
   "execution_count": 6,
   "id": "a99dd067",
   "metadata": {},
   "outputs": [
    {
     "data": {
      "text/plain": [
       "6.5"
      ]
     },
     "execution_count": 6,
     "metadata": {},
     "output_type": "execute_result"
    }
   ],
   "source": [
    "39/6"
   ]
  },
  {
   "cell_type": "code",
   "execution_count": 7,
   "id": "5021c6f3",
   "metadata": {},
   "outputs": [
    {
     "name": "stdout",
     "output_type": "stream",
     "text": [
      "PRANAM\n"
     ]
    }
   ],
   "source": [
    "print(\"PRANAM\")"
   ]
  }
 ],
 "metadata": {
  "kernelspec": {
   "display_name": "Python 3 (ipykernel)",
   "language": "python",
   "name": "python3"
  },
  "language_info": {
   "codemirror_mode": {
    "name": "ipython",
    "version": 3
   },
   "file_extension": ".py",
   "mimetype": "text/x-python",
   "name": "python",
   "nbconvert_exporter": "python",
   "pygments_lexer": "ipython3",
   "version": "3.11.5"
  }
 },
 "nbformat": 4,
 "nbformat_minor": 5
}
